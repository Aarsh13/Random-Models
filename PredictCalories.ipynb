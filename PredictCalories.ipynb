{
  "metadata": {
    "kernelspec": {
      "language": "python",
      "display_name": "Python 3",
      "name": "python3"
    },
    "language_info": {
      "name": "python",
      "version": "3.11.11",
      "mimetype": "text/x-python",
      "codemirror_mode": {
        "name": "ipython",
        "version": 3
      },
      "pygments_lexer": "ipython3",
      "nbconvert_exporter": "python",
      "file_extension": ".py"
    },
    "kaggle": {
      "accelerator": "none",
      "dataSources": [
        {
          "sourceId": 91716,
          "databundleVersionId": 11893428,
          "sourceType": "competition"
        }
      ],
      "dockerImageVersionId": 31040,
      "isInternetEnabled": true,
      "language": "python",
      "sourceType": "notebook",
      "isGpuEnabled": false
    },
    "colab": {
      "name": "PredictCalories",
      "provenance": [],
      "include_colab_link": true
    }
  },
  "nbformat_minor": 0,
  "nbformat": 4,
  "cells": [
    {
      "cell_type": "markdown",
      "metadata": {
        "id": "view-in-github",
        "colab_type": "text"
      },
      "source": [
        "<a href=\"https://colab.research.google.com/github/Aarsh13/Random-Models/blob/main/PredictCalories.ipynb\" target=\"_parent\"><img src=\"https://colab.research.google.com/assets/colab-badge.svg\" alt=\"Open In Colab\"/></a>"
      ]
    },
    {
      "source": [
        "# IMPORTANT: SOME KAGGLE DATA SOURCES ARE PRIVATE\n",
        "# RUN THIS CELL IN ORDER TO IMPORT YOUR KAGGLE DATA SOURCES.\n",
        "import kagglehub\n",
        "kagglehub.login()\n"
      ],
      "metadata": {
        "id": "XH9pUOTfDAmR"
      },
      "cell_type": "code",
      "outputs": [],
      "execution_count": null
    },
    {
      "source": [
        "# IMPORTANT: RUN THIS CELL IN ORDER TO IMPORT YOUR KAGGLE DATA SOURCES,\n",
        "# THEN FEEL FREE TO DELETE THIS CELL.\n",
        "# NOTE: THIS NOTEBOOK ENVIRONMENT DIFFERS FROM KAGGLE'S PYTHON\n",
        "# ENVIRONMENT SO THERE MAY BE MISSING LIBRARIES USED BY YOUR\n",
        "# NOTEBOOK.\n",
        "\n",
        "playground_series_s5e5_path = kagglehub.competition_download('playground-series-s5e5')\n",
        "\n",
        "print('Data source import complete.')\n"
      ],
      "metadata": {
        "id": "vqGA3MjMDAmU"
      },
      "cell_type": "code",
      "outputs": [],
      "execution_count": null
    },
    {
      "cell_type": "code",
      "source": [
        "# This Python 3 environment comes with many helpful analytics libraries installed\n",
        "# It is defined by the kaggle/python Docker image: https://github.com/kaggle/docker-python\n",
        "# For example, here's several helpful packages to load\n",
        "\n",
        "import numpy as np # linear algebra\n",
        "import pandas as pd # data processing, CSV file I/O (e.g. pd.read_csv)\n",
        "\n",
        "# Input data files are available in the read-only \"../input/\" directory\n",
        "# For example, running this (by clicking run or pressing Shift+Enter) will list all files under the input directory\n",
        "\n",
        "import os\n",
        "for dirname, _, filenames in os.walk('/kaggle/input'):\n",
        "    for filename in filenames:\n",
        "        print(os.path.join(dirname, filename))\n",
        "\n",
        "# You can write up to 20GB to the current directory (/kaggle/working/) that gets preserved as output when you create a version using \"Save & Run All\"\n",
        "# You can also write temporary files to /kaggle/temp/, but they won't be saved outside of the current session"
      ],
      "metadata": {
        "_uuid": "8f2839f25d086af736a60e9eeb907d3b93b6e0e5",
        "_cell_guid": "b1076dfc-b9ad-4769-8c92-a6c4dae69d19",
        "trusted": true,
        "execution": {
          "iopub.status.busy": "2025-06-22T18:40:18.420992Z",
          "iopub.execute_input": "2025-06-22T18:40:18.421245Z",
          "iopub.status.idle": "2025-06-22T18:40:19.616332Z",
          "shell.execute_reply.started": "2025-06-22T18:40:18.42122Z",
          "shell.execute_reply": "2025-06-22T18:40:19.615398Z"
        },
        "id": "8W3Xvo0TDAmV"
      },
      "outputs": [],
      "execution_count": null
    },
    {
      "cell_type": "code",
      "source": [
        "import pandas as pd\n",
        "import numpy as np\n"
      ],
      "metadata": {
        "trusted": true,
        "execution": {
          "iopub.status.busy": "2025-06-22T18:40:30.469783Z",
          "iopub.execute_input": "2025-06-22T18:40:30.47008Z",
          "iopub.status.idle": "2025-06-22T18:40:30.474509Z",
          "shell.execute_reply.started": "2025-06-22T18:40:30.470058Z",
          "shell.execute_reply": "2025-06-22T18:40:30.473546Z"
        },
        "id": "W1TcKiCsDAmV"
      },
      "outputs": [],
      "execution_count": null
    },
    {
      "cell_type": "code",
      "source": [
        "df=pd.read_csv(\"/kaggle/input/playground-series-s5e5/train.csv\")\n",
        "df=df.drop('id', axis='columns')\n",
        "df.head()"
      ],
      "metadata": {
        "trusted": true,
        "execution": {
          "iopub.status.busy": "2025-06-22T18:41:00.737243Z",
          "iopub.execute_input": "2025-06-22T18:41:00.737891Z",
          "iopub.status.idle": "2025-06-22T18:41:02.069432Z",
          "shell.execute_reply.started": "2025-06-22T18:41:00.737867Z",
          "shell.execute_reply": "2025-06-22T18:41:02.068663Z"
        },
        "id": "Ezjo_7xxDAmW"
      },
      "outputs": [],
      "execution_count": null
    },
    {
      "cell_type": "code",
      "source": [
        "import seaborn as sns\n",
        "import matplotlib.pyplot as plt"
      ],
      "metadata": {
        "trusted": true,
        "execution": {
          "iopub.status.busy": "2025-06-22T18:41:23.312219Z",
          "iopub.execute_input": "2025-06-22T18:41:23.312676Z",
          "iopub.status.idle": "2025-06-22T18:41:24.256731Z",
          "shell.execute_reply.started": "2025-06-22T18:41:23.312638Z",
          "shell.execute_reply": "2025-06-22T18:41:24.255657Z"
        },
        "id": "XdPZ4pWdDAmW"
      },
      "outputs": [],
      "execution_count": null
    },
    {
      "cell_type": "code",
      "source": [
        "import seaborn as sns\n",
        "\n",
        "output_col = 'Calories'\n",
        "\n",
        "for column in df.columns:\n",
        "    if column != output_col:\n",
        "        plt.figure(figsize=(6, 4))\n",
        "        sns.scatterplot(x=df[column], y=df[output_col])\n",
        "        plt.title(f'{column} vs {output_col}')\n",
        "        plt.tight_layout()\n",
        "        plt.show()"
      ],
      "metadata": {
        "trusted": true,
        "execution": {
          "iopub.status.busy": "2025-06-22T18:41:34.387724Z",
          "iopub.execute_input": "2025-06-22T18:41:34.388123Z",
          "iopub.status.idle": "2025-06-22T18:41:47.106741Z",
          "shell.execute_reply.started": "2025-06-22T18:41:34.388101Z",
          "shell.execute_reply": "2025-06-22T18:41:47.105847Z"
        },
        "id": "E75HbthsDAmW"
      },
      "outputs": [],
      "execution_count": null
    },
    {
      "cell_type": "code",
      "source": [
        "features=['Body_Temp', 'Heart_Rate', 'Duration']\n",
        "df_features=df[features]\n",
        "df_target=df['Calories']\n"
      ],
      "metadata": {
        "trusted": true,
        "execution": {
          "iopub.status.busy": "2025-06-22T18:42:02.647338Z",
          "iopub.execute_input": "2025-06-22T18:42:02.647664Z",
          "iopub.status.idle": "2025-06-22T18:42:02.660832Z",
          "shell.execute_reply.started": "2025-06-22T18:42:02.64764Z",
          "shell.execute_reply": "2025-06-22T18:42:02.659909Z"
        },
        "id": "kP9QuOl3DAmX"
      },
      "outputs": [],
      "execution_count": null
    },
    {
      "cell_type": "code",
      "source": [
        "from sklearn.ensemble import RandomForestRegressor\n",
        "\n",
        "model = RandomForestRegressor()\n",
        "\n",
        "model.fit(df_features, df_target)"
      ],
      "metadata": {
        "trusted": true,
        "execution": {
          "iopub.status.busy": "2025-06-22T18:57:11.355304Z",
          "iopub.execute_input": "2025-06-22T18:57:11.355661Z",
          "iopub.status.idle": "2025-06-22T18:58:14.795825Z",
          "shell.execute_reply.started": "2025-06-22T18:57:11.35564Z",
          "shell.execute_reply": "2025-06-22T18:58:14.794728Z"
        },
        "id": "PD_HBRboDAmX",
        "outputId": "fa283d89-12a3-421c-8f60-b45bb1917576"
      },
      "outputs": [
        {
          "execution_count": 22,
          "output_type": "execute_result",
          "data": {
            "text/plain": "RandomForestRegressor()",
            "text/html": "<style>#sk-container-id-4 {color: black;background-color: white;}#sk-container-id-4 pre{padding: 0;}#sk-container-id-4 div.sk-toggleable {background-color: white;}#sk-container-id-4 label.sk-toggleable__label {cursor: pointer;display: block;width: 100%;margin-bottom: 0;padding: 0.3em;box-sizing: border-box;text-align: center;}#sk-container-id-4 label.sk-toggleable__label-arrow:before {content: \"▸\";float: left;margin-right: 0.25em;color: #696969;}#sk-container-id-4 label.sk-toggleable__label-arrow:hover:before {color: black;}#sk-container-id-4 div.sk-estimator:hover label.sk-toggleable__label-arrow:before {color: black;}#sk-container-id-4 div.sk-toggleable__content {max-height: 0;max-width: 0;overflow: hidden;text-align: left;background-color: #f0f8ff;}#sk-container-id-4 div.sk-toggleable__content pre {margin: 0.2em;color: black;border-radius: 0.25em;background-color: #f0f8ff;}#sk-container-id-4 input.sk-toggleable__control:checked~div.sk-toggleable__content {max-height: 200px;max-width: 100%;overflow: auto;}#sk-container-id-4 input.sk-toggleable__control:checked~label.sk-toggleable__label-arrow:before {content: \"▾\";}#sk-container-id-4 div.sk-estimator input.sk-toggleable__control:checked~label.sk-toggleable__label {background-color: #d4ebff;}#sk-container-id-4 div.sk-label input.sk-toggleable__control:checked~label.sk-toggleable__label {background-color: #d4ebff;}#sk-container-id-4 input.sk-hidden--visually {border: 0;clip: rect(1px 1px 1px 1px);clip: rect(1px, 1px, 1px, 1px);height: 1px;margin: -1px;overflow: hidden;padding: 0;position: absolute;width: 1px;}#sk-container-id-4 div.sk-estimator {font-family: monospace;background-color: #f0f8ff;border: 1px dotted black;border-radius: 0.25em;box-sizing: border-box;margin-bottom: 0.5em;}#sk-container-id-4 div.sk-estimator:hover {background-color: #d4ebff;}#sk-container-id-4 div.sk-parallel-item::after {content: \"\";width: 100%;border-bottom: 1px solid gray;flex-grow: 1;}#sk-container-id-4 div.sk-label:hover label.sk-toggleable__label {background-color: #d4ebff;}#sk-container-id-4 div.sk-serial::before {content: \"\";position: absolute;border-left: 1px solid gray;box-sizing: border-box;top: 0;bottom: 0;left: 50%;z-index: 0;}#sk-container-id-4 div.sk-serial {display: flex;flex-direction: column;align-items: center;background-color: white;padding-right: 0.2em;padding-left: 0.2em;position: relative;}#sk-container-id-4 div.sk-item {position: relative;z-index: 1;}#sk-container-id-4 div.sk-parallel {display: flex;align-items: stretch;justify-content: center;background-color: white;position: relative;}#sk-container-id-4 div.sk-item::before, #sk-container-id-4 div.sk-parallel-item::before {content: \"\";position: absolute;border-left: 1px solid gray;box-sizing: border-box;top: 0;bottom: 0;left: 50%;z-index: -1;}#sk-container-id-4 div.sk-parallel-item {display: flex;flex-direction: column;z-index: 1;position: relative;background-color: white;}#sk-container-id-4 div.sk-parallel-item:first-child::after {align-self: flex-end;width: 50%;}#sk-container-id-4 div.sk-parallel-item:last-child::after {align-self: flex-start;width: 50%;}#sk-container-id-4 div.sk-parallel-item:only-child::after {width: 0;}#sk-container-id-4 div.sk-dashed-wrapped {border: 1px dashed gray;margin: 0 0.4em 0.5em 0.4em;box-sizing: border-box;padding-bottom: 0.4em;background-color: white;}#sk-container-id-4 div.sk-label label {font-family: monospace;font-weight: bold;display: inline-block;line-height: 1.2em;}#sk-container-id-4 div.sk-label-container {text-align: center;}#sk-container-id-4 div.sk-container {/* jupyter's `normalize.less` sets `[hidden] { display: none; }` but bootstrap.min.css set `[hidden] { display: none !important; }` so we also need the `!important` here to be able to override the default hidden behavior on the sphinx rendered scikit-learn.org. See: https://github.com/scikit-learn/scikit-learn/issues/21755 */display: inline-block !important;position: relative;}#sk-container-id-4 div.sk-text-repr-fallback {display: none;}</style><div id=\"sk-container-id-4\" class=\"sk-top-container\"><div class=\"sk-text-repr-fallback\"><pre>RandomForestRegressor()</pre><b>In a Jupyter environment, please rerun this cell to show the HTML representation or trust the notebook. <br />On GitHub, the HTML representation is unable to render, please try loading this page with nbviewer.org.</b></div><div class=\"sk-container\" hidden><div class=\"sk-item\"><div class=\"sk-estimator sk-toggleable\"><input class=\"sk-toggleable__control sk-hidden--visually\" id=\"sk-estimator-id-4\" type=\"checkbox\" checked><label for=\"sk-estimator-id-4\" class=\"sk-toggleable__label sk-toggleable__label-arrow\">RandomForestRegressor</label><div class=\"sk-toggleable__content\"><pre>RandomForestRegressor()</pre></div></div></div></div></div>"
          },
          "metadata": {}
        }
      ],
      "execution_count": null
    },
    {
      "cell_type": "code",
      "source": [
        "X_test=pd.read_csv('/kaggle/input/playground-series-s5e5/test.csv')\n",
        "X_test.head()"
      ],
      "metadata": {
        "trusted": true,
        "execution": {
          "iopub.status.busy": "2025-06-22T18:51:13.732382Z",
          "iopub.execute_input": "2025-06-22T18:51:13.733021Z",
          "iopub.status.idle": "2025-06-22T18:51:13.893203Z",
          "shell.execute_reply.started": "2025-06-22T18:51:13.732997Z",
          "shell.execute_reply": "2025-06-22T18:51:13.892382Z"
        },
        "id": "ClGBY_FeDAmY",
        "outputId": "34d868cd-9692-4265-d6af-8f835aa20359"
      },
      "outputs": [
        {
          "execution_count": 14,
          "output_type": "execute_result",
          "data": {
            "text/plain": "       id     Sex  Age  Height  Weight  Duration  Heart_Rate  Body_Temp\n0  750000    male   45   177.0    81.0       7.0        87.0       39.8\n1  750001    male   26   200.0    97.0      20.0       101.0       40.5\n2  750002  female   29   188.0    85.0      16.0       102.0       40.4\n3  750003  female   39   172.0    73.0      20.0       107.0       40.6\n4  750004  female   30   173.0    67.0      16.0        94.0       40.5",
            "text/html": "<div>\n<style scoped>\n    .dataframe tbody tr th:only-of-type {\n        vertical-align: middle;\n    }\n\n    .dataframe tbody tr th {\n        vertical-align: top;\n    }\n\n    .dataframe thead th {\n        text-align: right;\n    }\n</style>\n<table border=\"1\" class=\"dataframe\">\n  <thead>\n    <tr style=\"text-align: right;\">\n      <th></th>\n      <th>id</th>\n      <th>Sex</th>\n      <th>Age</th>\n      <th>Height</th>\n      <th>Weight</th>\n      <th>Duration</th>\n      <th>Heart_Rate</th>\n      <th>Body_Temp</th>\n    </tr>\n  </thead>\n  <tbody>\n    <tr>\n      <th>0</th>\n      <td>750000</td>\n      <td>male</td>\n      <td>45</td>\n      <td>177.0</td>\n      <td>81.0</td>\n      <td>7.0</td>\n      <td>87.0</td>\n      <td>39.8</td>\n    </tr>\n    <tr>\n      <th>1</th>\n      <td>750001</td>\n      <td>male</td>\n      <td>26</td>\n      <td>200.0</td>\n      <td>97.0</td>\n      <td>20.0</td>\n      <td>101.0</td>\n      <td>40.5</td>\n    </tr>\n    <tr>\n      <th>2</th>\n      <td>750002</td>\n      <td>female</td>\n      <td>29</td>\n      <td>188.0</td>\n      <td>85.0</td>\n      <td>16.0</td>\n      <td>102.0</td>\n      <td>40.4</td>\n    </tr>\n    <tr>\n      <th>3</th>\n      <td>750003</td>\n      <td>female</td>\n      <td>39</td>\n      <td>172.0</td>\n      <td>73.0</td>\n      <td>20.0</td>\n      <td>107.0</td>\n      <td>40.6</td>\n    </tr>\n    <tr>\n      <th>4</th>\n      <td>750004</td>\n      <td>female</td>\n      <td>30</td>\n      <td>173.0</td>\n      <td>67.0</td>\n      <td>16.0</td>\n      <td>94.0</td>\n      <td>40.5</td>\n    </tr>\n  </tbody>\n</table>\n</div>"
          },
          "metadata": {}
        }
      ],
      "execution_count": null
    },
    {
      "cell_type": "code",
      "source": [
        "X_test_noID=X_test.drop('id', axis='columns')"
      ],
      "metadata": {
        "trusted": true,
        "execution": {
          "iopub.status.busy": "2025-06-22T18:51:19.982965Z",
          "iopub.execute_input": "2025-06-22T18:51:19.983294Z",
          "iopub.status.idle": "2025-06-22T18:51:19.994315Z",
          "shell.execute_reply.started": "2025-06-22T18:51:19.983272Z",
          "shell.execute_reply": "2025-06-22T18:51:19.993177Z"
        },
        "id": "I6z5YXKbDAmY"
      },
      "outputs": [],
      "execution_count": null
    },
    {
      "cell_type": "code",
      "source": [
        "predictions=model.predict(X_test_noID[features])\n"
      ],
      "metadata": {
        "trusted": true,
        "execution": {
          "iopub.status.busy": "2025-06-22T18:58:30.149306Z",
          "iopub.execute_input": "2025-06-22T18:58:30.149703Z",
          "iopub.status.idle": "2025-06-22T18:58:34.945462Z",
          "shell.execute_reply.started": "2025-06-22T18:58:30.149672Z",
          "shell.execute_reply": "2025-06-22T18:58:34.944752Z"
        },
        "id": "sC0QAnEGDAmY"
      },
      "outputs": [],
      "execution_count": null
    },
    {
      "cell_type": "code",
      "source": [
        "plt.plot(predictions)"
      ],
      "metadata": {
        "trusted": true,
        "execution": {
          "iopub.status.busy": "2025-06-22T18:58:39.601162Z",
          "iopub.execute_input": "2025-06-22T18:58:39.601815Z",
          "iopub.status.idle": "2025-06-22T18:58:41.258004Z",
          "shell.execute_reply.started": "2025-06-22T18:58:39.601791Z",
          "shell.execute_reply": "2025-06-22T18:58:41.257074Z"
        },
        "id": "AmelqhI5DAmY",
        "outputId": "1bea683c-c2d6-4866-ab1d-27545a13ffa6"
      },
      "outputs": [
        {
          "execution_count": 24,
          "output_type": "execute_result",
          "data": {
            "text/plain": "[<matplotlib.lines.Line2D at 0x79b05f66de10>]"
          },
          "metadata": {}
        },
        {
          "output_type": "display_data",
          "data": {
            "text/plain": "<Figure size 640x480 with 1 Axes>",
            "image/png": "[encoded data removed]"
          },
          "metadata": {}
        }
      ],
      "execution_count": null
    },
    {
      "cell_type": "code",
      "source": [
        "output= pd.DataFrame({'id': X_test.id, 'Calories': predictions})\n",
        "output.to_csv('submission.csv', index=False)\n",
        "print(\"Your submission was successfully saved!\")"
      ],
      "metadata": {
        "trusted": true,
        "execution": {
          "iopub.status.busy": "2025-06-22T18:58:47.673463Z",
          "iopub.execute_input": "2025-06-22T18:58:47.673827Z",
          "iopub.status.idle": "2025-06-22T18:58:48.253204Z",
          "shell.execute_reply.started": "2025-06-22T18:58:47.673803Z",
          "shell.execute_reply": "2025-06-22T18:58:48.252291Z"
        },
        "id": "P7m0Lu0BDAmY",
        "outputId": "fb0a55a2-1943-495e-8317-06f28c7f3978"
      },
      "outputs": [
        {
          "name": "stdout",
          "text": "Your submission was successfully saved!\n",
          "output_type": "stream"
        }
      ],
      "execution_count": null
    }
  ]
}